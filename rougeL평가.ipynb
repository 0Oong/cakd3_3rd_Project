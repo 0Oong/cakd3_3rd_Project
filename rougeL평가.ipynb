{
  "nbformat": 4,
  "nbformat_minor": 0,
  "metadata": {
    "colab": {
      "name": "rougeL평가.ipynb",
      "provenance": [],
      "collapsed_sections": []
    },
    "kernelspec": {
      "display_name": "Python 3",
      "name": "python3"
    },
    "language_info": {
      "name": "python"
    }
  },
  "cells": [
    {
      "cell_type": "code",
      "metadata": {
        "id": "XyREYti8ssmI"
      },
      "source": [
        "# !pip isntall rouge_score"
      ],
      "execution_count": null,
      "outputs": []
    },
    {
      "cell_type": "code",
      "metadata": {
        "colab": {
          "base_uri": "https://localhost:8080/"
        },
        "id": "-z4L-Pk8bERJ",
        "outputId": "fdebb76e-aab9-42f7-a199-b8ada79375f1"
      },
      "source": [
        "import pandas as pd\n",
        "df = pd.read_csv('/content/drive/MyDrive/cakd3_team3/Datasets/book_summary/Training/df1.csv') #도서자료요약 기술과학 \n",
        "input_str = df['text'][1]\n",
        "\n",
        "# pip install tensorflow tensorflow_text\n",
        "import numpy as np\n",
        "import tensorflow as tf\n",
        "import tensorflow_text\n",
        "\n",
        "model_path = \"/content/drive/MyDrive/cakd3_team3/Datasets/ke-t5/downstream_exported/t5.1.1.small.gin.ke.ke_v100_span_corruption.ke_t5_nikl_summary_mixture_equal/\"\n",
        "loaded = tf.saved_model.load(model_path)\n",
        "infer = loaded.signatures[\"serving_default\"]\n",
        "input_str_topic = \"summarize_topic: \" + input_str\n",
        "input_str_summary = \"summarize_summary: \" + input_str\n",
        "\n",
        "x = tf.constant([input_str_topic])\n",
        "\n",
        "result = infer(x)\n",
        "# print([out.decode('utf-8') for out in result['inputs'].numpy()])\n",
        "print([out.decode('utf-8') for out in result['outputs'].numpy()])"
      ],
      "execution_count": null,
      "outputs": [
        {
          "name": "stdout",
          "output_type": "stream",
          "text": [
            "['그러나 사회적 이슈가 발생하였을 경우에 전문적으로 이러한 정보를 수집하고 분석하는 관측시스템은 존재하지 않는다고 할 수 있다. 더욱 체계적이고 정확한 관측은 어느 곳에서도 이루어지지 않았다. 더욱이 이러한 사고가 발생한 이후 관측시스템 구축의 필요성이 제기되었음에도 불구하고 현재 그러한 시스템은 구축되지 않은 상황이다.']\n"
          ]
        }
      ]
    },
    {
      "cell_type": "code",
      "metadata": {
        "colab": {
          "base_uri": "https://localhost:8080/",
          "height": 112
        },
        "id": "8o0u7iBkd4kQ",
        "outputId": "6e5b52f7-0b6a-4202-bcae-ae98695aa113"
      },
      "source": [
        "df.head(2)"
      ],
      "execution_count": null,
      "outputs": [
        {
          "output_type": "execute_result",
          "data": {
            "text/html": [
              "<div>\n",
              "<style scoped>\n",
              "    .dataframe tbody tr th:only-of-type {\n",
              "        vertical-align: middle;\n",
              "    }\n",
              "\n",
              "    .dataframe tbody tr th {\n",
              "        vertical-align: top;\n",
              "    }\n",
              "\n",
              "    .dataframe thead th {\n",
              "        text-align: right;\n",
              "    }\n",
              "</style>\n",
              "<table border=\"1\" class=\"dataframe\">\n",
              "  <thead>\n",
              "    <tr style=\"text-align: right;\">\n",
              "      <th></th>\n",
              "      <th>text</th>\n",
              "      <th>summary</th>\n",
              "    </tr>\n",
              "  </thead>\n",
              "  <tbody>\n",
              "    <tr>\n",
              "      <th>0</th>\n",
              "      <td>네 번째는 공급감소로 국내 물량이 부족하게 되면 유통질서가 왜곡될 가능성이 많기 때...</td>\n",
              "      <td>일부 경우에서의 유통질서 혼란을 방지하기 위해 거래형태의 변형이 필요하다. 의도적 ...</td>\n",
              "    </tr>\n",
              "    <tr>\n",
              "      <th>1</th>\n",
              "      <td>그러나 사회적 이슈가 발생하였을 경우에 전문적으로 이러한 정보를 수집하고 분석하는 ...</td>\n",
              "      <td>사회적 이슈 발생 시 전문적으로 정보 수집 및 분석을 하는 관측 시스템이 아직 구축...</td>\n",
              "    </tr>\n",
              "  </tbody>\n",
              "</table>\n",
              "</div>"
            ],
            "text/plain": [
              "                                                text                                            summary\n",
              "0  네 번째는 공급감소로 국내 물량이 부족하게 되면 유통질서가 왜곡될 가능성이 많기 때...  일부 경우에서의 유통질서 혼란을 방지하기 위해 거래형태의 변형이 필요하다. 의도적 ...\n",
              "1  그러나 사회적 이슈가 발생하였을 경우에 전문적으로 이러한 정보를 수집하고 분석하는 ...  사회적 이슈 발생 시 전문적으로 정보 수집 및 분석을 하는 관측 시스템이 아직 구축..."
            ]
          },
          "metadata": {},
          "execution_count": 14
        }
      ]
    },
    {
      "cell_type": "code",
      "metadata": {
        "colab": {
          "background_save": true
        },
        "id": "gbPJNX9HbEXL"
      },
      "source": [
        "import tensorflow as tf\n",
        "predicted_pred_list = []\n",
        "summary_list = []\n",
        "\n",
        "for i in range(1000):\n",
        "  sum = df['summary'][i]\n",
        "  summary_list.append(sum)\n",
        "\n",
        "  text = df['text'][i]\n",
        "  input_str_topic = \"summarize_summary: \" + text\n",
        "  x = tf.constant([input_str_topic])\n",
        "  # predict\n",
        "  result = infer(x)\n",
        "  pred = result['outputs'].numpy()[0].decode('utf-8')\n",
        "  \n",
        "  predicted_pred_list.append(pred)"
      ],
      "execution_count": null,
      "outputs": []
    },
    {
      "cell_type": "code",
      "metadata": {
        "id": "NAjNap-uid0N"
      },
      "source": [
        "from rouge_score import rouge_scorer\n",
        "\n",
        "# predicted_pred_list\n",
        "# summary_list\n",
        "precision_list = []\n",
        "for i in range(len(predicted_pred_list)):\n",
        "  pred = predicted_pred_list[i]\n",
        "  summ = summary_list[i]\n",
        "  scorer = rouge_scorer.RougeScorer(['rouge1', 'rougeL'], use_stemmer=True)\n",
        "  scores = scorer.score(pred,summ)\n",
        "  prec = scores['rougeL'].precision\n",
        "  precision_list.append(prec)"
      ],
      "execution_count": null,
      "outputs": []
    },
    {
      "cell_type": "code",
      "metadata": {
        "colab": {
          "base_uri": "https://localhost:8080/"
        },
        "id": "r3QenKnRipOG",
        "outputId": "18ec0634-0cc1-4071-dd1f-5754bec46c71"
      },
      "source": [
        "import numpy as np\n",
        "np.mean(precision_list)"
      ],
      "execution_count": null,
      "outputs": [
        {
          "output_type": "execute_result",
          "data": {
            "text/plain": [
              "0.26791829004329004"
            ]
          },
          "metadata": {},
          "execution_count": 13
        }
      ]
    }
  ]
}